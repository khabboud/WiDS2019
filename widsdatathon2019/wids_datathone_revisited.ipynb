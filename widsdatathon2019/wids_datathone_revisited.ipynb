{
  "nbformat": 4,
  "nbformat_minor": 0,
  "metadata": {
    "kernelspec": {
      "display_name": "Python 3",
      "language": "python",
      "name": "python3"
    },
    "language_info": {
      "codemirror_mode": {
        "name": "ipython",
        "version": 3
      },
      "file_extension": ".py",
      "mimetype": "text/x-python",
      "name": "python",
      "nbconvert_exporter": "python",
      "pygments_lexer": "ipython3",
      "version": "3.7.3"
    },
    "colab": {
      "name": "wids_workshop.ipynb",
      "version": "0.3.2",
      "provenance": []
    }
  },
  "cells": [
    {
      "cell_type": "markdown",
      "metadata": {
        "id": "McT5BLq7BNIf",
        "colab_type": "text"
      },
      "source": [
        "# WiDS 2019 Datathone revisited: \n",
        "## Binary classification of oil palm satellite images\n",
        "##  Image augmentation for class balancing and transfer learning using Keras API"
      ]
    },
    {
      "cell_type": "code",
      "metadata": {
        "id": "6f2ULO6Waec4",
        "colab_type": "code",
        "outputId": "49c1bec0-4c14-4f4a-b3ba-c39aae8d022c",
        "colab": {}
      },
      "source": [
        "# Includes the necessary libraries\n",
        "import numpy as np\n",
        "import pandas as pd\n",
        "import matplotlib.pylab as plt \n",
        "import os\n",
        "\n",
        "from keras import layers\n",
        "from keras.datasets import mnist\n",
        "from keras.models import Sequential, Model\n",
        "from keras.layers import Embedding, Flatten, Dense, Activation, BatchNormalization, Conv2D, MaxPooling2D, Dropout, Dense, GlobalAveragePooling2D\n",
        "from keras_preprocessing.image import ImageDataGenerator\n",
        "from keras.callbacks import Callback, ModelCheckpoint, History \n",
        "from keras.wrappers.scikit_learn import KerasClassifier\n",
        "from keras.utils import np_utils\n",
        "from keras.optimizers import SGD, Adam\n",
        "from keras import applications\n",
        "from sklearn.utils import class_weight\n",
        "from sklearn.model_selection import train_test_split\n",
        "import multiprocessing\n",
        "\n",
        "\n",
        "from sklearn.model_selection import train_test_split\n",
        "from sklearn.preprocessing import LabelEncoder, MinMaxScaler\n",
        "from sklearn.metrics import confusion_matrix, roc_auc_score\n",
        "\n",
        "\n",
        "import sys, os\n",
        "sys.path.insert(0, '../')\n",
        "from oilpalm import OilPalmImages\n",
        "import pandas as pd\n",
        "import numpy as np\n",
        "import matplotlib.pyplot as plt\n",
        "import seaborn as sns\n",
        "\n",
        "\n",
        "\n",
        "%matplotlib inline"
      ],
      "execution_count": 0,
      "outputs": [
        {
          "output_type": "stream",
          "text": [
            "Using TensorFlow backend.\n"
          ],
          "name": "stderr"
        }
      ]
    },
    {
      "cell_type": "code",
      "metadata": {
        "id": "-lercW8VaedE",
        "colab_type": "code",
        "outputId": "7756a417-8fbc-47ce-da5a-1817a959d9f2",
        "colab": {}
      },
      "source": [
        "# --- Check if Tensorflow is using GPU (install tensorflow-gpu istead of tensorflow)\n",
        "import tensorflow as tf\n",
        "print(tf.test.is_built_with_cuda())"
      ],
      "execution_count": 0,
      "outputs": [
        {
          "output_type": "stream",
          "text": [
            "True\n"
          ],
          "name": "stdout"
        }
      ]
    },
    {
      "cell_type": "markdown",
      "metadata": {
        "id": "9KCOKwG5I6jn",
        "colab_type": "text"
      },
      "source": [
        "#create an instance from OilPalmImages\n",
        "## Get labels according to the selection criterion and the label confidence"
      ]
    },
    {
      "cell_type": "code",
      "metadata": {
        "scrolled": true,
        "id": "u6xY1-kyaedI",
        "colab_type": "code",
        "outputId": "4be602e6-1f30-4c1e-bf8e-7948aefea46c",
        "colab": {}
      },
      "source": [
        "#---- create instance of OilPalmImages \n",
        "train_file_directory = \"train_images/\"\n",
        "labels_file_name = 'traininglabels.csv'\n",
        "# --- use the label confidence (probability) assigned when labeling to select the labels/images, hard  \n",
        "label_selection_probability = 0.5 # confidence (probability) threshold for accepting the assigned label\n",
        "label_selection_method = 'soft' # or 'hard' threshold \n",
        "apply_pca = False\n",
        "reduced_image_height = 256\n",
        "max_samples_class0 = 1005\n",
        "max_samples_class1 = 1003\n",
        "op_instance = OilPalmImages(file_directory= train_file_directory, labels_file_name = labels_file_name, apply_pca = apply_pca,\n",
        "                            pca_components= reduced_image_height, label_selection_probability = label_selection_probability, \n",
        "                            label_selection_method = label_selection_method,  max_samples_class0 = max_samples_class0,\n",
        "                            max_samples_class1 =max_samples_class1)\n",
        "#---- For Keras, we will only get the labels from file, we will not use the custom readImages member method\n",
        "op_instance.get_labels_from_file()"
      ],
      "execution_count": 0,
      "outputs": [
        {
          "output_type": "stream",
          "text": [
            "plot the distribution of the score value for each of the classes...\n"
          ],
          "name": "stdout"
        },
        {
          "output_type": "stream",
          "text": [
            "/home/asamadan/anaconda3/envs/wids_env/lib/python3.7/site-packages/seaborn/axisgrid.py:230: UserWarning: The `size` paramter has been renamed to `height`; please update your code.\n",
            "  warnings.warn(msg, UserWarning)\n"
          ],
          "name": "stderr"
        },
        {
          "output_type": "display_data",
          "data": {
            "image/png": "[encoded data removed]",
            "text/plain": [
              "<Figure size 777.6x432 with 2 Axes>"
            ]
          },
          "metadata": {
            "tags": [],
            "needs_background": "light"
          }
        },
        {
          "output_type": "stream",
          "text": [
            "plot the histogram of classes of the training samples...\n"
          ],
          "name": "stdout"
        },
        {
          "output_type": "display_data",
          "data": {
            "image/png": "[encoded data removed]",
            "text/plain": [
              "<Figure size 432x288 with 1 Axes>"
            ]
          },
          "metadata": {
            "tags": [],
            "needs_background": "light"
          }
        }
      ]
    },
    {
      "cell_type": "markdown",
      "metadata": {
        "id": "hJAVUQchJeKz",
        "colab_type": "text"
      },
      "source": [
        "## create data frame for the image file names and their labels"
      ]
    },
    {
      "cell_type": "code",
      "metadata": {
        "scrolled": true,
        "id": "ITeDoqlnaedN",
        "colab_type": "code",
        "outputId": "45dd766d-7085-4425-ccbe-9b5690796706",
        "colab": {}
      },
      "source": [
        "df_labels = pd.DataFrame()\n",
        "df_labels['img_filename'] = op_instance.labels_dic.keys()\n",
        "df_labels['img_label'] = list(map(lambda x: op_instance.get_label_forImage(x), op_instance.labels_dic.keys()))\n",
        "\n",
        "plt.hist(df_labels.img_label.values)\n",
        "plt.xlabel('has_oilpalm class')\n",
        "plt.show()\n",
        "df_labels['img_label'] = df_labels['img_label'].astype(str)\n",
        "print(\"Available labeled data balance in the raw data\")\n",
        "print(df_labels.img_label.value_counts())\n",
        "\n",
        "df_labels.head(10)"
      ],
      "execution_count": 0,
      "outputs": [
        {
          "output_type": "display_data",
          "data": {
            "image/png": "[encoded data removed]",
            "text/plain": [
              "<Figure size 432x288 with 1 Axes>"
            ]
          },
          "metadata": {
            "tags": [],
            "needs_background": "light"
          }
        },
        {
          "output_type": "stream",
          "text": [
            "0    14241\n",
            "1     1003\n",
            "Name: img_label, dtype: int64\n"
          ],
          "name": "stdout"
        },
        {
          "output_type": "execute_result",
          "data": {
            "text/html": [
              "<div>\n",
              "<style scoped>\n",
              "    .dataframe tbody tr th:only-of-type {\n",
              "        vertical-align: middle;\n",
              "    }\n",
              "\n",
              "    .dataframe tbody tr th {\n",
              "        vertical-align: top;\n",
              "    }\n",
              "\n",
              "    .dataframe thead th {\n",
              "        text-align: right;\n",
              "    }\n",
              "</style>\n",
              "<table border=\"1\" class=\"dataframe\">\n",
              "  <thead>\n",
              "    <tr style=\"text-align: right;\">\n",
              "      <th></th>\n",
              "      <th>img_filename</th>\n",
              "      <th>img_label</th>\n",
              "    </tr>\n",
              "  </thead>\n",
              "  <tbody>\n",
              "    <tr>\n",
              "      <th>0</th>\n",
              "      <td>img_000002017.jpg</td>\n",
              "      <td>0</td>\n",
              "    </tr>\n",
              "    <tr>\n",
              "      <th>1</th>\n",
              "      <td>img_000012017.jpg</td>\n",
              "      <td>0</td>\n",
              "    </tr>\n",
              "    <tr>\n",
              "      <th>2</th>\n",
              "      <td>img_000022017.jpg</td>\n",
              "      <td>0</td>\n",
              "    </tr>\n",
              "    <tr>\n",
              "      <th>3</th>\n",
              "      <td>img_000072017.jpg</td>\n",
              "      <td>0</td>\n",
              "    </tr>\n",
              "    <tr>\n",
              "      <th>4</th>\n",
              "      <td>img_000082017.jpg</td>\n",
              "      <td>0</td>\n",
              "    </tr>\n",
              "    <tr>\n",
              "      <th>5</th>\n",
              "      <td>img_000092017.jpg</td>\n",
              "      <td>0</td>\n",
              "    </tr>\n",
              "    <tr>\n",
              "      <th>6</th>\n",
              "      <td>img_000102017.jpg</td>\n",
              "      <td>0</td>\n",
              "    </tr>\n",
              "    <tr>\n",
              "      <th>7</th>\n",
              "      <td>img_000112017.jpg</td>\n",
              "      <td>0</td>\n",
              "    </tr>\n",
              "    <tr>\n",
              "      <th>8</th>\n",
              "      <td>img_000132017.jpg</td>\n",
              "      <td>0</td>\n",
              "    </tr>\n",
              "    <tr>\n",
              "      <th>9</th>\n",
              "      <td>img_000142017.jpg</td>\n",
              "      <td>0</td>\n",
              "    </tr>\n",
              "  </tbody>\n",
              "</table>\n",
              "</div>"
            ],
            "text/plain": [
              "        img_filename img_label\n",
              "0  img_000002017.jpg         0\n",
              "1  img_000012017.jpg         0\n",
              "2  img_000022017.jpg         0\n",
              "3  img_000072017.jpg         0\n",
              "4  img_000082017.jpg         0\n",
              "5  img_000092017.jpg         0\n",
              "6  img_000102017.jpg         0\n",
              "7  img_000112017.jpg         0\n",
              "8  img_000132017.jpg         0\n",
              "9  img_000142017.jpg         0"
            ]
          },
          "metadata": {
            "tags": []
          },
          "execution_count": 7
        }
      ]
    },
    {
      "cell_type": "markdown",
      "metadata": {
        "id": "Fl0aMBNWPrn4",
        "colab_type": "text"
      },
      "source": [
        "#Prepare the data for training\n",
        "## Train- Test split 80%- 20%"
      ]
    },
    {
      "cell_type": "code",
      "metadata": {
        "id": "d2zzhqVAaedQ",
        "colab_type": "code",
        "outputId": "0a232f61-0208-40a5-c67d-4405ec496b6b",
        "colab": {}
      },
      "source": [
        "#--- split the labeled data into train and test set\n",
        "train_df, test_df = train_test_split(df_labels,train_size = 0.80, test_size = 0.20 , random_state=1 )\n",
        "train_df= train_df.reset_index(drop=True)\n",
        "test_df= test_df.reset_index(drop=True)\n",
        "print(\"Train data balance before augmentation\")\n",
        "print(train_df.img_label.value_counts())\n",
        "train_df.tail(10)"
      ],
      "execution_count": 0,
      "outputs": [
        {
          "output_type": "stream",
          "text": [
            "0    11381\n",
            "1      814\n",
            "Name: img_label, dtype: int64\n"
          ],
          "name": "stdout"
        },
        {
          "output_type": "execute_result",
          "data": {
            "text/html": [
              "<div>\n",
              "<style scoped>\n",
              "    .dataframe tbody tr th:only-of-type {\n",
              "        vertical-align: middle;\n",
              "    }\n",
              "\n",
              "    .dataframe tbody tr th {\n",
              "        vertical-align: top;\n",
              "    }\n",
              "\n",
              "    .dataframe thead th {\n",
              "        text-align: right;\n",
              "    }\n",
              "</style>\n",
              "<table border=\"1\" class=\"dataframe\">\n",
              "  <thead>\n",
              "    <tr style=\"text-align: right;\">\n",
              "      <th></th>\n",
              "      <th>img_filename</th>\n",
              "      <th>img_label</th>\n",
              "    </tr>\n",
              "  </thead>\n",
              "  <tbody>\n",
              "    <tr>\n",
              "      <th>12185</th>\n",
              "      <td>img_002262017.jpg</td>\n",
              "      <td>0</td>\n",
              "    </tr>\n",
              "    <tr>\n",
              "      <th>12186</th>\n",
              "      <td>img_073462017.jpg</td>\n",
              "      <td>0</td>\n",
              "    </tr>\n",
              "    <tr>\n",
              "      <th>12187</th>\n",
              "      <td>img_041492017.jpg</td>\n",
              "      <td>0</td>\n",
              "    </tr>\n",
              "    <tr>\n",
              "      <th>12188</th>\n",
              "      <td>img_004092018.jpg</td>\n",
              "      <td>0</td>\n",
              "    </tr>\n",
              "    <tr>\n",
              "      <th>12189</th>\n",
              "      <td>img_050212018.jpg</td>\n",
              "      <td>0</td>\n",
              "    </tr>\n",
              "    <tr>\n",
              "      <th>12190</th>\n",
              "      <td>img_013262017.jpg</td>\n",
              "      <td>0</td>\n",
              "    </tr>\n",
              "    <tr>\n",
              "      <th>12191</th>\n",
              "      <td>img_075642017.jpg</td>\n",
              "      <td>0</td>\n",
              "    </tr>\n",
              "    <tr>\n",
              "      <th>12192</th>\n",
              "      <td>img_067662018.jpg</td>\n",
              "      <td>0</td>\n",
              "    </tr>\n",
              "    <tr>\n",
              "      <th>12193</th>\n",
              "      <td>img_003712017.jpg</td>\n",
              "      <td>0</td>\n",
              "    </tr>\n",
              "    <tr>\n",
              "      <th>12194</th>\n",
              "      <td>img_085582018.jpg</td>\n",
              "      <td>0</td>\n",
              "    </tr>\n",
              "  </tbody>\n",
              "</table>\n",
              "</div>"
            ],
            "text/plain": [
              "            img_filename img_label\n",
              "12185  img_002262017.jpg         0\n",
              "12186  img_073462017.jpg         0\n",
              "12187  img_041492017.jpg         0\n",
              "12188  img_004092018.jpg         0\n",
              "12189  img_050212018.jpg         0\n",
              "12190  img_013262017.jpg         0\n",
              "12191  img_075642017.jpg         0\n",
              "12192  img_067662018.jpg         0\n",
              "12193  img_003712017.jpg         0\n",
              "12194  img_085582018.jpg         0"
            ]
          },
          "metadata": {
            "tags": []
          },
          "execution_count": 8
        }
      ]
    },
    {
      "cell_type": "markdown",
      "metadata": {
        "id": "HrtxoO7_P7ka",
        "colab_type": "text"
      },
      "source": [
        "## Upsampling the minority class using image augmentation "
      ]
    },
    {
      "cell_type": "code",
      "metadata": {
        "id": "V29YjeyraedT",
        "colab_type": "code",
        "outputId": "d6b8f472-4de0-4577-a530-9a79f64a894b",
        "colab": {}
      },
      "source": [
        "#------ balance the data by upsampling the minority class (the augmentation will happen later in generation)\n",
        "df_train_0 = train_df[train_df.img_label.values =='0']\n",
        "df_train_1 = train_df[train_df.img_label.values =='1']\n",
        "aug_df_train =pd.DataFrame()\n",
        "for i in range(8):\n",
        "    aug_df_train = aug_df_train.append(df_train_1)\n",
        "    \n",
        "\n",
        "aug_df_train = aug_df_train.reset_index(drop = True)\n",
        "\n",
        "train_df = aug_df_train.append(df_train_0)\n",
        "train_df = train_df.reset_index(drop = True)\n",
        "train_df = train_df.sample(frac=1).reset_index(drop=True)\n",
        "print(\"Train data balance after augmentation\")\n",
        "train_df.img_label.value_counts()"
      ],
      "execution_count": 0,
      "outputs": [
        {
          "output_type": "execute_result",
          "data": {
            "text/plain": [
              "0    11381\n",
              "1     6512\n",
              "Name: img_label, dtype: int64"
            ]
          },
          "metadata": {
            "tags": []
          },
          "execution_count": 9
        }
      ]
    },
    {
      "cell_type": "code",
      "metadata": {
        "id": "3RNbs0qXaedb",
        "colab_type": "code",
        "colab": {}
      },
      "source": [
        "# Optimization parameters\n",
        "lr = 0.1 # learning rate\n",
        "momentum = 0.9 # momentum\n",
        "epochs = 10 # total epochs\n",
        "decay_rate = 0.1 / epochs # rate at which learning rate is decreased\n",
        "batch_size = 32"
      ],
      "execution_count": 0,
      "outputs": []
    },
    {
      "cell_type": "code",
      "metadata": {
        "id": "r4pNzyr-aedf",
        "colab_type": "code",
        "outputId": "1508244a-870b-4234-b464-370f1069a7cb",
        "colab": {}
      },
      "source": [
        "#---- Create train generator split the training data into train and validation \n",
        "#sets and randomly augmeneted the training/validation images using Keras's ImageDataGenerator\n",
        "datagen=ImageDataGenerator(rotation_range=40,\n",
        "                            width_shift_range=0.2,\n",
        "                            height_shift_range=0.2,\n",
        "                            #rescale=1./255, # this messes up the order later in prediction\n",
        "                            shear_range=0.2,\n",
        "                            zoom_range=0.2,\n",
        "                            brightness_range=[0.5, 1.5],\n",
        "                            vertical_flip = True,\n",
        "                            horizontal_flip=True,\n",
        "                            channel_shift_range = 0.2,\n",
        "                            fill_mode='nearest',\n",
        "                            validation_split=0.25)\n",
        "train_generator=datagen.flow_from_dataframe(\n",
        "dataframe=train_df,\n",
        "directory=\"./train_images/\",\n",
        "x_col=\"img_filename\",\n",
        "y_col=\"img_label\",\n",
        "subset=\"training\",\n",
        "target_size=(256, 256),\n",
        "color_mode='rgb',\n",
        "batch_size=batch_size,\n",
        "#save_to_dir = \"./augmented_train_images/\", #uncomment this if you want to save the resulting augmented images\n",
        "#save_prefix='', save_format='jpg',\n",
        "seed=42,\n",
        "shuffle=False, # if True, it will mess up the order later in prediction\n",
        "class_mode=\"categorical\",\n",
        "drop_duplicates= False)\n",
        "\n",
        "valid_generator=datagen.flow_from_dataframe(\n",
        "dataframe=train_df,\n",
        "directory=\"./train_images/\",\n",
        "x_col=\"img_filename\",\n",
        "y_col=\"img_label\",\n",
        "subset=\"validation\",\n",
        "target_size=(256, 256),\n",
        "color_mode='rgb',\n",
        "batch_size=batch_size,\n",
        "seed=42,\n",
        "shuffle=False,  # if True, it will mess up the order later in prediction\n",
        "#save_to_dir = \"./augmented_valid_images/\",  #uncomment this if you want to save the resulting augmented images\n",
        "#save_prefix='', save_format='jpg',    \n",
        "class_mode=\"categorical\",\n",
        "drop_duplicates= False)\n",
        "\n",
        "datagen_test=ImageDataGenerator()\n",
        "\n",
        "test_generator=datagen_test.flow_from_dataframe(\n",
        "dataframe=test_df,\n",
        "directory=\"./train_images/\",\n",
        "x_col=\"img_filename\",\n",
        "y_col=\"img_label\",\n",
        "target_size=(256, 256),\n",
        "color_mode='rgb',\n",
        "batch_size=batch_size,\n",
        "seed=42,\n",
        "shuffle=False,  # if True, it will mess up the order later in prediction\n",
        "class_mode=\"categorical\")\n",
        "\n",
        "STEP_SIZE_TRAIN=train_generator.n//train_generator.batch_size\n",
        "STEP_SIZE_VALID=valid_generator.n//valid_generator.batch_size\n",
        "STEP_SIZE_TEST=test_generator.n//test_generator.batch_size\n",
        "print(\"number of training samples \", train_generator.n)\n",
        "print(\"number of validation samples \", valid_generator.n)\n",
        "print(\"number of testing samples \", test_generator.n)\n",
        "print(\"number of positive/negative training samples \")\n",
        "y_train = train_generator.classes\n",
        "unique, counts = np.unique(y_train, return_counts=True)\n",
        "print(unique)\n",
        "print(counts)\n",
        "y_valid = valid_generator.classes\n",
        "print(\"number of positive/negative validation samples \")\n",
        "unique, counts = np.unique(y_valid, return_counts=True)\n",
        "print(unique)\n",
        "print(counts)\n",
        "\n",
        "y_test = test_generator.classes\n",
        "print(\"number of positive/negative test samples \")\n",
        "unique, counts = np.unique(y_test, return_counts=True)\n",
        "print(unique)\n",
        "print(counts)\n",
        "print(\"STEP_SIZE_TRAIN \", STEP_SIZE_TRAIN)\n",
        "print(\"STEP_SIZE_VALID\", STEP_SIZE_VALID)\n",
        "print(\"STEP_SIZE_TEST\", STEP_SIZE_TEST)"
      ],
      "execution_count": 0,
      "outputs": [
        {
          "output_type": "stream",
          "text": [
            "Found 13420 validated image filenames belonging to 2 classes.\n",
            "Found 4473 validated image filenames belonging to 2 classes.\n",
            "Found 3049 validated image filenames belonging to 2 classes.\n",
            "number of training samples  13420\n",
            "number of validation samples  4473\n",
            "number of testing samples  3049\n",
            "number of positive/negative training samples \n",
            "[0 1]\n",
            "[8487 4933]\n",
            "number of positive/negative validation samples \n",
            "[0 1]\n",
            "[2894 1579]\n",
            "number of positive/negative test samples \n",
            "[0 1]\n",
            "[2860  189]\n",
            "STEP_SIZE_TRAIN  419\n",
            "STEP_SIZE_VALID 139\n",
            "STEP_SIZE_TEST 95\n"
          ],
          "name": "stdout"
        }
      ]
    },
    {
      "cell_type": "markdown",
      "metadata": {
        "id": "nX-kfNaogEv3",
        "colab_type": "text"
      },
      "source": [
        "## Generator for the hold-out test set (unlabeled)"
      ]
    },
    {
      "cell_type": "code",
      "metadata": {
        "id": "-38IL4y4aedm",
        "colab_type": "code",
        "outputId": "bb8a2b09-1e22-46a7-b46d-aa12493e5aad",
        "colab": {}
      },
      "source": [
        "file_names = os.listdir(\"./leaderboard_test_data/\")\n",
        "hold_df = pd.DataFrame()\n",
        "hold_df[\"img_filename\"] = file_names\n",
        "hold_df.head(10)"
      ],
      "execution_count": 0,
      "outputs": [
        {
          "output_type": "execute_result",
          "data": {
            "text/html": [
              "<div>\n",
              "<style scoped>\n",
              "    .dataframe tbody tr th:only-of-type {\n",
              "        vertical-align: middle;\n",
              "    }\n",
              "\n",
              "    .dataframe tbody tr th {\n",
              "        vertical-align: top;\n",
              "    }\n",
              "\n",
              "    .dataframe thead th {\n",
              "        text-align: right;\n",
              "    }\n",
              "</style>\n",
              "<table border=\"1\" class=\"dataframe\">\n",
              "  <thead>\n",
              "    <tr style=\"text-align: right;\">\n",
              "      <th></th>\n",
              "      <th>img_filename</th>\n",
              "    </tr>\n",
              "  </thead>\n",
              "  <tbody>\n",
              "    <tr>\n",
              "      <th>0</th>\n",
              "      <td>img_101862018.jpg</td>\n",
              "    </tr>\n",
              "    <tr>\n",
              "      <th>1</th>\n",
              "      <td>img_067962017.jpg</td>\n",
              "    </tr>\n",
              "    <tr>\n",
              "      <th>2</th>\n",
              "      <td>img_063002017.jpg</td>\n",
              "    </tr>\n",
              "    <tr>\n",
              "      <th>3</th>\n",
              "      <td>img_096162017.jpg</td>\n",
              "    </tr>\n",
              "    <tr>\n",
              "      <th>4</th>\n",
              "      <td>img_047432018.jpg</td>\n",
              "    </tr>\n",
              "    <tr>\n",
              "      <th>5</th>\n",
              "      <td>img_031932018.jpg</td>\n",
              "    </tr>\n",
              "    <tr>\n",
              "      <th>6</th>\n",
              "      <td>img_010552017.jpg</td>\n",
              "    </tr>\n",
              "    <tr>\n",
              "      <th>7</th>\n",
              "      <td>img_046482017.jpg</td>\n",
              "    </tr>\n",
              "    <tr>\n",
              "      <th>8</th>\n",
              "      <td>img_039142018.jpg</td>\n",
              "    </tr>\n",
              "    <tr>\n",
              "      <th>9</th>\n",
              "      <td>img_085602018.jpg</td>\n",
              "    </tr>\n",
              "  </tbody>\n",
              "</table>\n",
              "</div>"
            ],
            "text/plain": [
              "        img_filename\n",
              "0  img_101862018.jpg\n",
              "1  img_067962017.jpg\n",
              "2  img_063002017.jpg\n",
              "3  img_096162017.jpg\n",
              "4  img_047432018.jpg\n",
              "5  img_031932018.jpg\n",
              "6  img_010552017.jpg\n",
              "7  img_046482017.jpg\n",
              "8  img_039142018.jpg\n",
              "9  img_085602018.jpg"
            ]
          },
          "metadata": {
            "tags": []
          },
          "execution_count": 15
        }
      ]
    },
    {
      "cell_type": "code",
      "metadata": {
        "id": "G8LNtPGcaedt",
        "colab_type": "code",
        "outputId": "9dc4bb55-3468-40ff-f561-40497a040ed8",
        "colab": {}
      },
      "source": [
        "#--- generator for the holdout test set (groundtruth not available)\n",
        "datagen_hold=ImageDataGenerator()\n",
        "hold_generator=datagen_hold.flow_from_dataframe(\n",
        "dataframe=hold_df,\n",
        "directory=\"./leaderboard_test_data/\",\n",
        "x_col=\"img_filename\",\n",
        "target_size=(256, 256),\n",
        "color_mode='rgb',\n",
        "batch_size=1,\n",
        "seed=42,\n",
        "shuffle=False,\n",
        "class_mode=None)"
      ],
      "execution_count": 0,
      "outputs": [
        {
          "output_type": "stream",
          "text": [
            "Found 4356 validated image filenames.\n"
          ],
          "name": "stdout"
        }
      ]
    },
    {
      "cell_type": "code",
      "metadata": {
        "id": "ST2i5jM7aedz",
        "colab_type": "code",
        "colab": {}
      },
      "source": [
        "#-----get class weight from the training data\n",
        "from sklearn.utils import class_weight\n",
        "class_weight = class_weight.compute_class_weight('balanced',\n",
        "                                                 np.unique(train_df.img_label),\n",
        "                                                 train_df.img_label)"
      ],
      "execution_count": 0,
      "outputs": []
    },
    {
      "cell_type": "code",
      "metadata": {
        "id": "m74E33-Qaed5",
        "colab_type": "code",
        "outputId": "2f0a22f9-a360-4f2a-9e1b-46bce47344a8",
        "colab": {}
      },
      "source": [
        "class_weight"
      ],
      "execution_count": 0,
      "outputs": [
        {
          "output_type": "execute_result",
          "data": {
            "text/plain": [
              "array([0.78609085, 1.37384828])"
            ]
          },
          "metadata": {
            "tags": []
          },
          "execution_count": 18
        }
      ]
    },
    {
      "cell_type": "markdown",
      "metadata": {
        "id": "168ALi4ypbMH",
        "colab_type": "text"
      },
      "source": [
        "## CNN Model: use ResNet as a base model and add two output layers to be fitted by the trained data"
      ]
    },
    {
      "cell_type": "code",
      "metadata": {
        "id": "ykQB2dkDaed9",
        "colab_type": "code",
        "outputId": "7fdb848f-c016-459c-c8a0-255b4c188f01",
        "colab": {}
      },
      "source": [
        "#--- base model on ResNet, remove top layer\n",
        "base_model=applications.resnet50.ResNet50(weights='imagenet',include_top=False, input_shape =(256,256,3), classes=2)"
      ],
      "execution_count": 0,
      "outputs": [
        {
          "output_type": "stream",
          "text": [
            "WARNING: Logging before flag parsing goes to stderr.\n",
            "W0718 07:57:30.103055 140193772812096 deprecation_wrapper.py:119] From /home/asamadan/anaconda3/envs/wids_env/lib/python3.7/site-packages/keras/backend/tensorflow_backend.py:74: The name tf.get_default_graph is deprecated. Please use tf.compat.v1.get_default_graph instead.\n",
            "\n",
            "W0718 07:57:30.110625 140193772812096 deprecation_wrapper.py:119] From /home/asamadan/anaconda3/envs/wids_env/lib/python3.7/site-packages/keras/backend/tensorflow_backend.py:517: The name tf.placeholder is deprecated. Please use tf.compat.v1.placeholder instead.\n",
            "\n",
            "W0718 07:57:30.114632 140193772812096 deprecation_wrapper.py:119] From /home/asamadan/anaconda3/envs/wids_env/lib/python3.7/site-packages/keras/backend/tensorflow_backend.py:4185: The name tf.truncated_normal is deprecated. Please use tf.random.truncated_normal instead.\n",
            "\n",
            "W0718 07:57:30.129504 140193772812096 deprecation_wrapper.py:119] From /home/asamadan/anaconda3/envs/wids_env/lib/python3.7/site-packages/keras/backend/tensorflow_backend.py:174: The name tf.get_default_session is deprecated. Please use tf.compat.v1.get_default_session instead.\n",
            "\n",
            "W0718 07:57:30.129944 140193772812096 deprecation_wrapper.py:119] From /home/asamadan/anaconda3/envs/wids_env/lib/python3.7/site-packages/keras/backend/tensorflow_backend.py:181: The name tf.ConfigProto is deprecated. Please use tf.compat.v1.ConfigProto instead.\n",
            "\n",
            "W0718 07:57:30.712120 140193772812096 deprecation_wrapper.py:119] From /home/asamadan/anaconda3/envs/wids_env/lib/python3.7/site-packages/keras/backend/tensorflow_backend.py:1834: The name tf.nn.fused_batch_norm is deprecated. Please use tf.compat.v1.nn.fused_batch_norm instead.\n",
            "\n",
            "W0718 07:57:30.756643 140193772812096 deprecation_wrapper.py:119] From /home/asamadan/anaconda3/envs/wids_env/lib/python3.7/site-packages/keras/backend/tensorflow_backend.py:3976: The name tf.nn.max_pool is deprecated. Please use tf.nn.max_pool2d instead.\n",
            "\n",
            "/home/asamadan/anaconda3/envs/wids_env/lib/python3.7/site-packages/keras_applications/resnet50.py:265: UserWarning: The output shape of `ResNet50(include_top=False)` has been changed since Keras 2.2.0.\n",
            "  warnings.warn('The output shape of `ResNet50(include_top=False)` '\n"
          ],
          "name": "stderr"
        }
      ]
    },
    {
      "cell_type": "code",
      "metadata": {
        "id": "G-LT8RXaaeeD",
        "colab_type": "code",
        "outputId": "cceda925-2322-467e-fc69-b1da9bf94c54",
        "colab": {}
      },
      "source": [
        "# add two layers over the base model\n",
        "x = base_model.output\n",
        "x = GlobalAveragePooling2D(name='avg_pool')(x)\n",
        "x = Dropout(0.2)(x)\n",
        "# # let's add a fully-connected layer\n",
        "#\n",
        "x = Dense(200, activation='tanh')(x)\n",
        "x = BatchNormalization(axis=-1)(x)\n",
        "x = Dropout(0.4)(x)\n",
        "# and a logistic layer with two output classes\n",
        "predictions = Dense(2, activation='softmax')(x)\n",
        "\n",
        "# this is the model we will train\n",
        "model = Model(inputs=base_model.input, outputs=predictions)\n",
        "for layer in base_model.layers:\n",
        "    layer.trainable = False\n",
        "model.compile(optimizer=SGD(lr=lr, momentum=momentum, decay=decay_rate),\n",
        "              loss='categorical_crossentropy',\n",
        "              metrics=['accuracy'])    \n",
        "# model.compile(optimizer='rmsprop',loss='binary_crossentropy',\n",
        "#               metrics=['accuracy'])    "
      ],
      "execution_count": 0,
      "outputs": [
        {
          "output_type": "stream",
          "text": [
            "W0718 07:57:35.740801 140193772812096 deprecation.py:506] From /home/asamadan/anaconda3/envs/wids_env/lib/python3.7/site-packages/keras/backend/tensorflow_backend.py:3445: calling dropout (from tensorflow.python.ops.nn_ops) with keep_prob is deprecated and will be removed in a future version.\n",
            "Instructions for updating:\n",
            "Please use `rate` instead of `keep_prob`. Rate should be set to `rate = 1 - keep_prob`.\n",
            "W0718 07:57:35.826035 140193772812096 deprecation_wrapper.py:119] From /home/asamadan/anaconda3/envs/wids_env/lib/python3.7/site-packages/keras/optimizers.py:790: The name tf.train.Optimizer is deprecated. Please use tf.compat.v1.train.Optimizer instead.\n",
            "\n"
          ],
          "name": "stderr"
        }
      ]
    },
    {
      "cell_type": "code",
      "metadata": {
        "id": "BWzsPD2oaeeS",
        "colab_type": "code",
        "outputId": "a3a5e08e-dc67-4cd2-da1f-34d7685124c6",
        "colab": {}
      },
      "source": [
        "#---number of available CPUs \n",
        "multiprocessing.cpu_count()"
      ],
      "execution_count": 0,
      "outputs": [
        {
          "output_type": "execute_result",
          "data": {
            "text/plain": [
              "8"
            ]
          },
          "metadata": {
            "tags": []
          },
          "execution_count": 25
        }
      ]
    },
    {
      "cell_type": "code",
      "metadata": {
        "scrolled": true,
        "id": "9jSctYVNaeeW",
        "colab_type": "code",
        "colab": {}
      },
      "source": [
        "class_weight2 =class_weight.copy()\n",
        "# class_weight2[1] = class_weight2[1]*2\n",
        "# transform the class weight to dictionary\n",
        "weight_dic = dict()\n",
        "weight_dic[0] = class_weight2[0]\n",
        "weight_dic[1] = class_weight2[1]\n",
        "weight_dic"
      ],
      "execution_count": 0,
      "outputs": []
    },
    {
      "cell_type": "code",
      "metadata": {
        "id": "RHiEKLggaeec",
        "colab_type": "code",
        "outputId": "d727fb23-5b9b-4bc2-8e34-dd5ff57ea29e",
        "colab": {}
      },
      "source": [
        "# Fit the model\n",
        "MODEL_FILE = 'filename.model'\n",
        "\n",
        "num_used_cpu = 2\n",
        "num_epochs = epochs\n",
        "history = model.fit_generator(generator=train_generator,\n",
        "                                          steps_per_epoch= STEP_SIZE_TRAIN,\n",
        "                                          epochs=num_epochs,\n",
        "                                          verbose=1,\n",
        "                                          validation_data=valid_generator,\n",
        "                                          validation_steps=STEP_SIZE_VALID,\n",
        "                                          class_weight = weight_dic)\n",
        "                                          #workers=num_used_cpu,\n",
        "#                                           max_queue_size=32,use_multiprocessing=True)\n",
        "\n",
        "model.save(MODEL_FILE)"
      ],
      "execution_count": 0,
      "outputs": [
        {
          "output_type": "stream",
          "text": [
            "W0718 07:57:35.991030 140193772812096 deprecation.py:323] From /home/asamadan/anaconda3/envs/wids_env/lib/python3.7/site-packages/tensorflow/python/ops/math_grad.py:1250: add_dispatch_support.<locals>.wrapper (from tensorflow.python.ops.array_ops) is deprecated and will be removed in a future version.\n",
            "Instructions for updating:\n",
            "Use tf.where in 2.0, which has the same broadcast rule as np.where\n"
          ],
          "name": "stderr"
        },
        {
          "output_type": "stream",
          "text": [
            "Epoch 1/10\n",
            "419/419 [==============================] - 202s 481ms/step - loss: 0.3070 - acc: 0.8910 - val_loss: 0.4098 - val_acc: 0.8554\n",
            "Epoch 2/10\n",
            " 18/419 [>.............................] - ETA: 2:06 - loss: 0.2672 - acc: 0.9086"
          ],
          "name": "stdout"
        }
      ]
    },
    {
      "cell_type": "markdown",
      "metadata": {
        "id": "0Y5zGvfFQkVv",
        "colab_type": "text"
      },
      "source": [
        "## Model evaluation"
      ]
    },
    {
      "cell_type": "code",
      "metadata": {
        "id": "x-GkvLFlaeeg",
        "colab_type": "code",
        "colab": {}
      },
      "source": [
        "# Plot the loss function and the evaluation metric over the course of training\n",
        "fig, ax = plt.subplots(1, 1, figsize=(10, 5))\n",
        "# Plot accuracy\n",
        "ax.plot(np.array(history.history['acc']), color='blue', label='training accuracy')\n",
        "# Plot loss\n",
        "ax.plot(np.array(history.history['loss']), color='red', label='training loss')\n",
        "ax.set_title('optimizer={}, learning rate={}'.format('Adam', lr))\n",
        "ax.legend(loc='upper right')\n",
        "plt.show()"
      ],
      "execution_count": 0,
      "outputs": []
    },
    {
      "cell_type": "code",
      "metadata": {
        "id": "PfX0Ha_Eaeej",
        "colab_type": "code",
        "colab": {}
      },
      "source": [
        "scores = model.evaluate_generator(generator=valid_generator,\n",
        "steps=STEP_SIZE_VALID)\n",
        "print(\"Validation Accuracy = \", scores[1])"
      ],
      "execution_count": 0,
      "outputs": []
    },
    {
      "cell_type": "code",
      "metadata": {
        "id": "b6ZmjNpnaeem",
        "colab_type": "code",
        "colab": {}
      },
      "source": [
        "train_scores = model.evaluate_generator(generator=train_generator,\n",
        "steps=STEP_SIZE_TRAIN)\n",
        "print(\"Train Accuracy = \", train_scores[1])"
      ],
      "execution_count": 0,
      "outputs": []
    },
    {
      "cell_type": "code",
      "metadata": {
        "id": "dAcgBKgkaeeu",
        "colab_type": "code",
        "colab": {}
      },
      "source": [
        "test_generator.reset()\n",
        "test_scores = model.evaluate_generator(generator=test_generator,\n",
        "steps=STEP_SIZE_TEST)\n",
        "print(\"Test Accuracy = \", test_scores[1])"
      ],
      "execution_count": 0,
      "outputs": []
    },
    {
      "cell_type": "code",
      "metadata": {
        "id": "0yHEMZY2aeez",
        "colab_type": "code",
        "colab": {}
      },
      "source": [
        "valid_generator.reset()\n",
        "y_valid = valid_generator.classes\n",
        "y_valid_pred = model.predict_generator(valid_generator,valid_generator.n // batch_size+1,use_multiprocessing=False)\n",
        "y_valid_pred_classes = np.argmax(y_valid_pred, axis=1)"
      ],
      "execution_count": 0,
      "outputs": []
    },
    {
      "cell_type": "code",
      "metadata": {
        "id": "tXU_OAzwaee1",
        "colab_type": "code",
        "colab": {}
      },
      "source": [
        "tn, fp, fn, tp = confusion_matrix(y_valid ,y_valid_pred_classes ).ravel()\n"
      ],
      "execution_count": 0,
      "outputs": []
    },
    {
      "cell_type": "code",
      "metadata": {
        "id": "knTTvL9xaee3",
        "colab_type": "code",
        "colab": {}
      },
      "source": [
        "(tn+tp)/(tn+fp+fn+tp )"
      ],
      "execution_count": 0,
      "outputs": []
    },
    {
      "cell_type": "code",
      "metadata": {
        "id": "ib2NeNnraee6",
        "colab_type": "code",
        "colab": {}
      },
      "source": [
        "unique, counts = np.unique(y_valid, return_counts=True)\n",
        "print(unique)\n",
        "print(counts)\n"
      ],
      "execution_count": 0,
      "outputs": []
    },
    {
      "cell_type": "code",
      "metadata": {
        "id": "MvBLBxnxaee9",
        "colab_type": "code",
        "colab": {}
      },
      "source": [
        "test_generator.reset()\n",
        "y_test = test_generator.classes\n",
        "y_test_pred = model.predict_generator(test_generator,test_generator.n // batch_size+1,use_multiprocessing=False)\n",
        "y_test_pred_classes = np.argmax(y_test_pred, axis=1)"
      ],
      "execution_count": 0,
      "outputs": []
    },
    {
      "cell_type": "code",
      "metadata": {
        "id": "urhM4ACuaefB",
        "colab_type": "code",
        "colab": {}
      },
      "source": [
        "tn, fp, fn, tp = confusion_matrix(y_test,y_test_pred_classes ).ravel()\n",
        "(tn+tp)/(tn+fp+fn+tp )"
      ],
      "execution_count": 0,
      "outputs": []
    },
    {
      "cell_type": "code",
      "metadata": {
        "id": "tuQHHFKwaefJ",
        "colab_type": "code",
        "colab": {}
      },
      "source": [
        "train_generator.reset()\n",
        "y_train = train_generator.classes\n",
        "y_train_pred = model.predict_generator(train_generator,train_generator.n // batch_size+1,use_multiprocessing=False)\n",
        "y_train_pred_classes = np.argmax(y_train_pred, axis=1)\n",
        "\n",
        "# print('Train ROC:', roc_auc_score(y_train, y_train_pred))\n",
        "# y_pred[y_pred > 0.5] = 1\n",
        "# y_pred[y_pred <= 0.5] = 0\n",
        "# Compute the confusion matrix on the training set\n",
        "print('Train confusion matrix:\\n', confusion_matrix(y_train,y_train_pred_classes), '\\n\\n')"
      ],
      "execution_count": 0,
      "outputs": []
    },
    {
      "cell_type": "code",
      "metadata": {
        "id": "yvzlfz5gaefM",
        "colab_type": "code",
        "colab": {}
      },
      "source": [
        "tn, fp, fn, tp = confusion_matrix(y_train,y_train_pred_classes).ravel()\n",
        "                                   "
      ],
      "execution_count": 0,
      "outputs": []
    },
    {
      "cell_type": "code",
      "metadata": {
        "id": "huUcFvtNaefP",
        "colab_type": "code",
        "colab": {}
      },
      "source": [
        "(tn+tp)/(tn+fp+fn+tp )"
      ],
      "execution_count": 0,
      "outputs": []
    },
    {
      "cell_type": "code",
      "metadata": {
        "id": "QWwi2rKNaefV",
        "colab_type": "code",
        "colab": {}
      },
      "source": [
        "# Compute the ROC on the training set\n",
        "# print('Valid ROC:', roc_auc_score(y_valid, y_valid_pred))\n",
        "# y_pred[y_pred > 0.5] = 1\n",
        "# y_pred[y_pred <= 0.5] = 0\n",
        "# Compute the confusion matrix on the training set\n",
        "print('Validation confusion matrix:\\n', confusion_matrix(y_valid,y_valid_pred_classes), '\\n\\n')\n",
        "\n",
        "\n",
        "\n",
        "# Get the class probabilities predicted by our MLP on the test set\n",
        "# y_pred = cnn_model.predict(X_test.reshape((-1, op_instance.height, op_instance.width, 1)))\n",
        "# Compute the ROC on the test set\n",
        "# print('Test ROC:', roc_auc_score(y_test, y_test_pred))\n",
        "# Compute the confusion matrix on the test set\n",
        "# y_pred[y_pred > 0.5] = 1\n",
        "# y_pred[y_pred <= 0.5] = 0\n",
        "print('Test confusion matrix:\\n', confusion_matrix(y_test, y_test_pred_classes))"
      ],
      "execution_count": 0,
      "outputs": []
    },
    {
      "cell_type": "code",
      "metadata": {
        "id": "xxQk3J_baefY",
        "colab_type": "code",
        "colab": {}
      },
      "source": [
        "plt.matshow(confusion_matrix(y_train, y_train_pred_classes))\n",
        "plt.title('Training confusion matrix')\n",
        "plt.colorbar()\n",
        "plt.ylabel('True label')\n",
        "plt.xlabel('Predicted label')\n",
        "plt.show()\n",
        "plt.matshow(confusion_matrix(y_valid, y_valid_pred_classes))\n",
        "plt.title('Validation confusion matrix')\n",
        "plt.colorbar()\n",
        "plt.ylabel('True label')\n",
        "plt.xlabel('Predicted label')\n",
        "plt.show()\n",
        "plt.matshow(confusion_matrix(y_test, y_test_pred_classes))\n",
        "plt.title('Testing confusion matrix')\n",
        "plt.colorbar()\n",
        "plt.ylabel('True label')\n",
        "plt.xlabel('Predicted label')\n",
        "plt.show()"
      ],
      "execution_count": 0,
      "outputs": []
    },
    {
      "cell_type": "markdown",
      "metadata": {
        "id": "8Vzt7azuUQU0",
        "colab_type": "text"
      },
      "source": [
        "# Predict the existance of palm oil plantation in holdout test set and save the output to csv file"
      ]
    },
    {
      "cell_type": "code",
      "metadata": {
        "id": "fKGTOl5Zaefe",
        "colab_type": "code",
        "colab": {}
      },
      "source": [
        "hold_generator.reset()\n",
        "y_hold_pred = model.predict_generator(hold_generator,hold_generator.n // 1,use_multiprocessing=False)\n",
        "y_hold_pred_classes = np.argmax(y_hold_pred, axis=1)"
      ],
      "execution_count": 0,
      "outputs": []
    },
    {
      "cell_type": "code",
      "metadata": {
        "id": "EIYEMLMmUPo6",
        "colab_type": "code",
        "colab": {}
      },
      "source": [
        "\n",
        "test_res = pd.DataFrame()\n",
        "test_res['image_id'] = hold_generator.filenames\n",
        "test_res['has_oilpalm'] = y_hold_pred_classes\n",
        "test_res.to_csv('test_results_wids.csv', index=False)\n"
      ],
      "execution_count": 0,
      "outputs": []
    }
  ]
}